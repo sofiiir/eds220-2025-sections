{
 "cells": [
  {
   "cell_type": "markdown",
   "id": "55ff8496-fb56-436c-84d4-9a5dfc737a74",
   "metadata": {},
   "source": [
    "# Prey species in California drylands\n"
   ]
  }
 ],
 "metadata": {
  "kernelspec": {
   "display_name": "EDS220",
   "language": "python",
   "name": "eds220-env"
  },
  "language_info": {
   "codemirror_mode": {
    "name": "ipython",
    "version": 3
   },
   "file_extension": ".py",
   "mimetype": "text/x-python",
   "name": "python",
   "nbconvert_exporter": "python",
   "pygments_lexer": "ipython3",
   "version": "3.11.4"
  }
 },
 "nbformat": 4,
 "nbformat_minor": 5
}
